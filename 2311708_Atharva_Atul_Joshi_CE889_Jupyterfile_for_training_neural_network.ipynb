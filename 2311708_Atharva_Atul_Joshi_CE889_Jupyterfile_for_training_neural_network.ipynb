{
 "cells": [
  {
   "cell_type": "code",
   "execution_count": 1,
   "id": "88b4b62e",
   "metadata": {},
   "outputs": [],
   "source": [
    "import pandas as pd\n",
    "import numpy as np"
   ]
  },
  {
   "cell_type": "code",
   "execution_count": 3,
   "id": "aea9e3a9",
   "metadata": {},
   "outputs": [
    {
     "data": {
      "text/html": [
       "<div>\n",
       "<style scoped>\n",
       "    .dataframe tbody tr th:only-of-type {\n",
       "        vertical-align: middle;\n",
       "    }\n",
       "\n",
       "    .dataframe tbody tr th {\n",
       "        vertical-align: top;\n",
       "    }\n",
       "\n",
       "    .dataframe thead th {\n",
       "        text-align: right;\n",
       "    }\n",
       "</style>\n",
       "<table border=\"1\" class=\"dataframe\">\n",
       "  <thead>\n",
       "    <tr style=\"text-align: right;\">\n",
       "      <th></th>\n",
       "      <th>0</th>\n",
       "      <th>1</th>\n",
       "      <th>2</th>\n",
       "      <th>3</th>\n",
       "    </tr>\n",
       "  </thead>\n",
       "  <tbody>\n",
       "    <tr>\n",
       "      <th>0</th>\n",
       "      <td>-258.612557</td>\n",
       "      <td>345.5</td>\n",
       "      <td>0.0</td>\n",
       "      <td>0.00</td>\n",
       "    </tr>\n",
       "    <tr>\n",
       "      <th>1</th>\n",
       "      <td>-258.612557</td>\n",
       "      <td>345.5</td>\n",
       "      <td>-0.1</td>\n",
       "      <td>0.04</td>\n",
       "    </tr>\n",
       "    <tr>\n",
       "      <th>2</th>\n",
       "      <td>-258.652557</td>\n",
       "      <td>345.6</td>\n",
       "      <td>-0.2</td>\n",
       "      <td>0.00</td>\n",
       "    </tr>\n",
       "    <tr>\n",
       "      <th>3</th>\n",
       "      <td>-258.652557</td>\n",
       "      <td>345.8</td>\n",
       "      <td>-0.3</td>\n",
       "      <td>0.04</td>\n",
       "    </tr>\n",
       "    <tr>\n",
       "      <th>4</th>\n",
       "      <td>-258.692557</td>\n",
       "      <td>346.1</td>\n",
       "      <td>-0.4</td>\n",
       "      <td>0.00</td>\n",
       "    </tr>\n",
       "  </tbody>\n",
       "</table>\n",
       "</div>"
      ],
      "text/plain": [
       "            0      1    2     3\n",
       "0 -258.612557  345.5  0.0  0.00\n",
       "1 -258.612557  345.5 -0.1  0.04\n",
       "2 -258.652557  345.6 -0.2  0.00\n",
       "3 -258.652557  345.8 -0.3  0.04\n",
       "4 -258.692557  346.1 -0.4  0.00"
      ]
     },
     "execution_count": 3,
     "metadata": {},
     "output_type": "execute_result"
    }
   ],
   "source": [
    "game=pd.read_csv('nn_dataCollection.csv', header=None)\n",
    "game.head()"
   ]
  },
  {
   "cell_type": "markdown",
   "id": "b28b36f9",
   "metadata": {},
   "source": [
    "## Data Preprocessing"
   ]
  },
  {
   "cell_type": "markdown",
   "id": "fba17e6b",
   "metadata": {},
   "source": [
    "Upon observing the data, some values which are not in accordance to the rest of the data have been removed"
   ]
  },
  {
   "cell_type": "code",
   "execution_count": 7,
   "id": "d918b960",
   "metadata": {},
   "outputs": [],
   "source": [
    "game.drop(game[game[3]==0].index, inplace=True)"
   ]
  },
  {
   "cell_type": "code",
   "execution_count": 9,
   "id": "939ff848",
   "metadata": {},
   "outputs": [],
   "source": [
    "game.drop(game[game[3]==0.04].index, inplace=True)"
   ]
  },
  {
   "cell_type": "code",
   "execution_count": 11,
   "id": "d88bf801",
   "metadata": {},
   "outputs": [
    {
     "data": {
      "text/plain": [
       "(133736, 4)"
      ]
     },
     "execution_count": 11,
     "metadata": {},
     "output_type": "execute_result"
    }
   ],
   "source": [
    "game.shape"
   ]
  },
  {
   "cell_type": "code",
   "execution_count": 13,
   "id": "bd57df6d",
   "metadata": {},
   "outputs": [],
   "source": [
    "game=game.head(80000)"
   ]
  },
  {
   "cell_type": "markdown",
   "id": "6801f1e0",
   "metadata": {},
   "source": [
    "## Data Normalization"
   ]
  },
  {
   "cell_type": "code",
   "execution_count": 16,
   "id": "fcfc85b7",
   "metadata": {},
   "outputs": [],
   "source": [
    "data=pd.DataFrame()\n",
    "def normal(n):\n",
    "    for i in range(0,4):\n",
    "        data[i]= (n[i]-n[i].min())/(n[i].max()-n[i].min())\n",
    "    return data    "
   ]
  },
  {
   "cell_type": "code",
   "execution_count": 18,
   "id": "f58eddbf",
   "metadata": {},
   "outputs": [
    {
     "data": {
      "text/html": [
       "<div>\n",
       "<style scoped>\n",
       "    .dataframe tbody tr th:only-of-type {\n",
       "        vertical-align: middle;\n",
       "    }\n",
       "\n",
       "    .dataframe tbody tr th {\n",
       "        vertical-align: top;\n",
       "    }\n",
       "\n",
       "    .dataframe thead th {\n",
       "        text-align: right;\n",
       "    }\n",
       "</style>\n",
       "<table border=\"1\" class=\"dataframe\">\n",
       "  <thead>\n",
       "    <tr style=\"text-align: right;\">\n",
       "      <th></th>\n",
       "      <th>0</th>\n",
       "      <th>1</th>\n",
       "      <th>2</th>\n",
       "      <th>3</th>\n",
       "    </tr>\n",
       "  </thead>\n",
       "  <tbody>\n",
       "    <tr>\n",
       "      <th>92</th>\n",
       "      <td>0.294934</td>\n",
       "      <td>0.365465</td>\n",
       "      <td>0.645781</td>\n",
       "      <td>0.447910</td>\n",
       "    </tr>\n",
       "    <tr>\n",
       "      <th>93</th>\n",
       "      <td>0.294977</td>\n",
       "      <td>0.358623</td>\n",
       "      <td>0.638095</td>\n",
       "      <td>0.445506</td>\n",
       "    </tr>\n",
       "    <tr>\n",
       "      <th>94</th>\n",
       "      <td>0.295037</td>\n",
       "      <td>0.351943</td>\n",
       "      <td>0.630602</td>\n",
       "      <td>0.442374</td>\n",
       "    </tr>\n",
       "    <tr>\n",
       "      <th>95</th>\n",
       "      <td>0.295120</td>\n",
       "      <td>0.345421</td>\n",
       "      <td>0.623323</td>\n",
       "      <td>0.438523</td>\n",
       "    </tr>\n",
       "    <tr>\n",
       "      <th>96</th>\n",
       "      <td>0.295230</td>\n",
       "      <td>0.339052</td>\n",
       "      <td>0.616276</td>\n",
       "      <td>0.433964</td>\n",
       "    </tr>\n",
       "    <tr>\n",
       "      <th>...</th>\n",
       "      <td>...</td>\n",
       "      <td>...</td>\n",
       "      <td>...</td>\n",
       "      <td>...</td>\n",
       "    </tr>\n",
       "    <tr>\n",
       "      <th>84714</th>\n",
       "      <td>0.457748</td>\n",
       "      <td>0.529758</td>\n",
       "      <td>0.381163</td>\n",
       "      <td>0.387683</td>\n",
       "    </tr>\n",
       "    <tr>\n",
       "      <th>84715</th>\n",
       "      <td>0.458219</td>\n",
       "      <td>0.528496</td>\n",
       "      <td>0.389683</td>\n",
       "      <td>0.392094</td>\n",
       "    </tr>\n",
       "    <tr>\n",
       "      <th>84716</th>\n",
       "      <td>0.458658</td>\n",
       "      <td>0.527055</td>\n",
       "      <td>0.398203</td>\n",
       "      <td>0.396504</td>\n",
       "    </tr>\n",
       "    <tr>\n",
       "      <th>84717</th>\n",
       "      <td>0.459066</td>\n",
       "      <td>0.525434</td>\n",
       "      <td>0.406724</td>\n",
       "      <td>0.400915</td>\n",
       "    </tr>\n",
       "    <tr>\n",
       "      <th>84718</th>\n",
       "      <td>0.459443</td>\n",
       "      <td>0.523634</td>\n",
       "      <td>0.415244</td>\n",
       "      <td>0.405325</td>\n",
       "    </tr>\n",
       "  </tbody>\n",
       "</table>\n",
       "<p>80000 rows × 4 columns</p>\n",
       "</div>"
      ],
      "text/plain": [
       "              0         1         2         3\n",
       "92     0.294934  0.365465  0.645781  0.447910\n",
       "93     0.294977  0.358623  0.638095  0.445506\n",
       "94     0.295037  0.351943  0.630602  0.442374\n",
       "95     0.295120  0.345421  0.623323  0.438523\n",
       "96     0.295230  0.339052  0.616276  0.433964\n",
       "...         ...       ...       ...       ...\n",
       "84714  0.457748  0.529758  0.381163  0.387683\n",
       "84715  0.458219  0.528496  0.389683  0.392094\n",
       "84716  0.458658  0.527055  0.398203  0.396504\n",
       "84717  0.459066  0.525434  0.406724  0.400915\n",
       "84718  0.459443  0.523634  0.415244  0.405325\n",
       "\n",
       "[80000 rows x 4 columns]"
      ]
     },
     "execution_count": 18,
     "metadata": {},
     "output_type": "execute_result"
    }
   ],
   "source": [
    "normal(game)"
   ]
  },
  {
   "cell_type": "markdown",
   "id": "327a40d7",
   "metadata": {},
   "source": [
    "## Renaming the columns"
   ]
  },
  {
   "cell_type": "code",
   "execution_count": 21,
   "id": "d8d67229",
   "metadata": {},
   "outputs": [],
   "source": [
    "data.columns =['Input_X1', 'Input_X2', 'Velocity_Y1', 'Velocity_Y2']"
   ]
  },
  {
   "cell_type": "code",
   "execution_count": 23,
   "id": "f1bf8cf7",
   "metadata": {},
   "outputs": [],
   "source": [
    "cols=data.columns =['Input_X1', 'Input_X2', 'Velocity_Y1', 'Velocity_Y2']"
   ]
  },
  {
   "cell_type": "markdown",
   "id": "ca41c02d",
   "metadata": {},
   "source": [
    "## Splitting the dataset into train, test and validation"
   ]
  },
  {
   "cell_type": "code",
   "execution_count": 26,
   "id": "7b9592a3",
   "metadata": {},
   "outputs": [],
   "source": [
    "game_data=data.sample(frac=1)"
   ]
  },
  {
   "cell_type": "code",
   "execution_count": 28,
   "id": "4e4cd86b",
   "metadata": {},
   "outputs": [
    {
     "data": {
      "text/plain": [
       "80000"
      ]
     },
     "execution_count": 28,
     "metadata": {},
     "output_type": "execute_result"
    }
   ],
   "source": [
    "game_data.shape[0]"
   ]
  },
  {
   "cell_type": "code",
   "execution_count": 30,
   "id": "370a1cd9",
   "metadata": {},
   "outputs": [
    {
     "name": "stdout",
     "output_type": "stream",
     "text": [
      "The number of rows is 80000\n",
      "Training data is 70% , which is 48000 rows\n"
     ]
    }
   ],
   "source": [
    "ratio=0.6\n",
    "rows=game_data.shape[0]\n",
    "print(f\"The number of rows is {rows}\")\n",
    "tr_size=int(ratio*rows)\n",
    "print(f\"Training data is 70% , which is {tr_size} rows\")"
   ]
  },
  {
   "cell_type": "code",
   "execution_count": 32,
   "id": "d60d35a9",
   "metadata": {},
   "outputs": [
    {
     "name": "stdout",
     "output_type": "stream",
     "text": [
      "The test data is going to be 20%\n",
      "The number of rows is 16000\n",
      " Validation data will be till the row number 64000\n"
     ]
    }
   ],
   "source": [
    "print('The test data is going to be 20%')\n",
    "last_20=int(0.2*len(game_data))\n",
    "val_size=game_data.tail(last_20)\n",
    "roww=val_size.shape[0]\n",
    "print(f'The number of rows is {roww}')\n",
    "val_rows=rows-roww\n",
    "print(f\" Validation data will be till the row number {val_rows}\")"
   ]
  },
  {
   "cell_type": "code",
   "execution_count": 34,
   "id": "43545bf5",
   "metadata": {},
   "outputs": [],
   "source": [
    "train_set=game_data[0:tr_size]\n",
    "val_set=game_data[tr_size:val_rows]\n",
    "test_set=game_data[val_rows:]"
   ]
  },
  {
   "cell_type": "code",
   "execution_count": 36,
   "id": "e7f5edb7",
   "metadata": {},
   "outputs": [
    {
     "name": "stdout",
     "output_type": "stream",
     "text": [
      "Let us confirm that there is no overlapping of rows in train, test and validation.\n",
      "Number of rows in train are 48000\n",
      "Number of rows in validation are 16000\n",
      "Number of rows in test are 16000\n",
      "The total should be 133736. The answer we have got it is 80000. If the rows match, we can conclude that the data doesn't overlap in train, validation and test\n"
     ]
    }
   ],
   "source": [
    "print('Let us confirm that there is no overlapping of rows in train, test and validation.')\n",
    "t1=train_set.shape[0]\n",
    "print(f'Number of rows in train are {t1}')\n",
    "t2=val_set.shape[0]\n",
    "print(f'Number of rows in validation are {t2}')\n",
    "t3=test_set.shape[0]\n",
    "print(f'Number of rows in test are {t3}')\n",
    "total_rows=t1+t2+t3\n",
    "print(f\"The total should be 133736. The answer we have got it is {total_rows}. If the rows match, we can conclude that the data doesn't overlap in train, validation and test\")"
   ]
  },
  {
   "cell_type": "markdown",
   "id": "ed182da4",
   "metadata": {},
   "source": [
    "## Feedforward Neural Network"
   ]
  },
  {
   "cell_type": "markdown",
   "id": "5fc8df75",
   "metadata": {},
   "source": [
    "#### Creating input data and out put data for train, validation and test"
   ]
  },
  {
   "cell_type": "code",
   "execution_count": 40,
   "id": "dd07d5ea",
   "metadata": {},
   "outputs": [],
   "source": [
    "X_train_set=train_set.drop(['Velocity_Y1','Velocity_Y2'], axis=1)\n",
    "Y_train_set=train_set.drop(['Input_X1','Input_X2'], axis=1)"
   ]
  },
  {
   "cell_type": "code",
   "execution_count": 42,
   "id": "bfa01c4a",
   "metadata": {},
   "outputs": [],
   "source": [
    "X_val_set=val_set.drop(['Velocity_Y1','Velocity_Y2'], axis=1)\n",
    "Y_val_set=val_set.drop(['Input_X1','Input_X2'], axis=1)"
   ]
  },
  {
   "cell_type": "code",
   "execution_count": 44,
   "id": "de125f12",
   "metadata": {},
   "outputs": [],
   "source": [
    "X_test_set=test_set.drop(['Velocity_Y1','Velocity_Y2'], axis=1)\n",
    "Y_test_set=test_set.drop(['Input_X1','Input_X2'], axis=1)"
   ]
  },
  {
   "cell_type": "code",
   "execution_count": 46,
   "id": "d8786616",
   "metadata": {},
   "outputs": [],
   "source": [
    "X_train_input=np.array(X_train_set)\n",
    "Y_train_output=np.array(Y_train_set)\n"
   ]
  },
  {
   "cell_type": "code",
   "execution_count": 48,
   "id": "74fc61eb",
   "metadata": {},
   "outputs": [],
   "source": [
    "X_val_input=np.array(X_val_set)\n",
    "Y_val_output=np.array(Y_val_set)\n"
   ]
  },
  {
   "cell_type": "code",
   "execution_count": 50,
   "id": "aad6e322",
   "metadata": {},
   "outputs": [],
   "source": [
    "X_test_input=np.array(X_test_set)\n",
    "Y_test_output=np.array(Y_test_set)"
   ]
  },
  {
   "cell_type": "markdown",
   "id": "362b49d4",
   "metadata": {},
   "source": [
    "#### Finding the mean of the train, validation, test outputs"
   ]
  },
  {
   "cell_type": "code",
   "execution_count": 53,
   "id": "991c95bd",
   "metadata": {},
   "outputs": [],
   "source": [
    "actual_1_tr=Y_train_output[0]\n",
    "actual_2_tr=Y_train_output[1]"
   ]
  },
  {
   "cell_type": "code",
   "execution_count": 55,
   "id": "94420c89",
   "metadata": {},
   "outputs": [],
   "source": [
    "mean_act_1=np.mean(actual_1_tr)\n",
    "mean_act_2=np.mean(actual_2_tr)"
   ]
  },
  {
   "cell_type": "code",
   "execution_count": 57,
   "id": "ebeb0bea",
   "metadata": {},
   "outputs": [],
   "source": [
    "mean_actual_train=(np.sum(mean_act_1+mean_act_2)/2)"
   ]
  },
  {
   "cell_type": "code",
   "execution_count": 59,
   "id": "2bd0a897",
   "metadata": {},
   "outputs": [],
   "source": [
    "actual_1_val=Y_val_output[0]\n",
    "actual_2_val=Y_val_output[1]\n",
    "mean_act_1_va=np.mean(actual_1_val)\n",
    "mean_act_2_va=np.mean(actual_2_val)"
   ]
  },
  {
   "cell_type": "code",
   "execution_count": 61,
   "id": "2ceb072b",
   "metadata": {},
   "outputs": [],
   "source": [
    "mean_actual_val=(np.sum(mean_act_1_va + mean_act_2_va)/2)"
   ]
  },
  {
   "cell_type": "code",
   "execution_count": null,
   "id": "f435fd7b",
   "metadata": {},
   "outputs": [],
   "source": []
  },
  {
   "cell_type": "code",
   "execution_count": 64,
   "id": "5ae602c2",
   "metadata": {},
   "outputs": [
    {
     "data": {
      "text/plain": [
       "0.41600634338935"
      ]
     },
     "execution_count": 64,
     "metadata": {},
     "output_type": "execute_result"
    }
   ],
   "source": [
    "mean_actual_val"
   ]
  },
  {
   "cell_type": "code",
   "execution_count": 66,
   "id": "5caf88ef",
   "metadata": {},
   "outputs": [],
   "source": [
    "actual_1_test=Y_test_output[0]\n",
    "actual_2_test=Y_test_output[1]\n",
    "mean_act_1_test=np.mean(actual_1_test)\n",
    "mean_act_2_test=np.mean(actual_2_test)"
   ]
  },
  {
   "cell_type": "code",
   "execution_count": 68,
   "id": "2271a183",
   "metadata": {},
   "outputs": [],
   "source": [
    "mean_actual_test=(np.sum(mean_act_1_test + mean_act_2_test)/2)"
   ]
  },
  {
   "cell_type": "code",
   "execution_count": null,
   "id": "874cd599",
   "metadata": {},
   "outputs": [],
   "source": []
  },
  {
   "cell_type": "markdown",
   "id": "770cd34f",
   "metadata": {
    "scrolled": false
   },
   "source": [
    "#### Adding bias to the train and validation sets"
   ]
  },
  {
   "cell_type": "code",
   "execution_count": 72,
   "id": "293f7608",
   "metadata": {},
   "outputs": [],
   "source": [
    "bias_train=np.ones((len(X_train_input)))"
   ]
  },
  {
   "cell_type": "code",
   "execution_count": 74,
   "id": "8d760154",
   "metadata": {},
   "outputs": [],
   "source": [
    "bias_val=np.ones((len(X_val_input)))"
   ]
  },
  {
   "cell_type": "code",
   "execution_count": 76,
   "id": "87ad4deb",
   "metadata": {},
   "outputs": [],
   "source": [
    "bias_test=np.ones((len(X_test_input)))"
   ]
  },
  {
   "cell_type": "markdown",
   "id": "8c3d3d0e",
   "metadata": {},
   "source": []
  },
  {
   "cell_type": "code",
   "execution_count": 79,
   "id": "2fb5924f",
   "metadata": {},
   "outputs": [],
   "source": [
    "X_ren_train=np.insert(X_train_input,2,bias_train, axis=1)"
   ]
  },
  {
   "cell_type": "code",
   "execution_count": 81,
   "id": "30e3dcef",
   "metadata": {},
   "outputs": [],
   "source": [
    "X_train_input=X_ren_train.reshape(48000,3)"
   ]
  },
  {
   "cell_type": "code",
   "execution_count": 83,
   "id": "3a941bf0",
   "metadata": {},
   "outputs": [],
   "source": [
    "X_ren_val=np.insert(X_val_input,2,bias_val, axis=1)"
   ]
  },
  {
   "cell_type": "code",
   "execution_count": 85,
   "id": "570c7859",
   "metadata": {},
   "outputs": [
    {
     "data": {
      "text/plain": [
       "(16000, 2)"
      ]
     },
     "execution_count": 85,
     "metadata": {},
     "output_type": "execute_result"
    }
   ],
   "source": [
    "X_val_input.shape"
   ]
  },
  {
   "cell_type": "code",
   "execution_count": 87,
   "id": "ba363713",
   "metadata": {
    "scrolled": true
   },
   "outputs": [],
   "source": [
    "X_val_input=X_ren_val.reshape(16000,3)"
   ]
  },
  {
   "cell_type": "markdown",
   "id": "23229239",
   "metadata": {},
   "source": []
  },
  {
   "cell_type": "code",
   "execution_count": 90,
   "id": "17225522",
   "metadata": {},
   "outputs": [],
   "source": [
    "X_ren_test=np.insert(X_test_input,2,bias_test, axis=1)"
   ]
  },
  {
   "cell_type": "code",
   "execution_count": 92,
   "id": "ff189dea",
   "metadata": {},
   "outputs": [
    {
     "data": {
      "text/plain": [
       "(16000, 3)"
      ]
     },
     "execution_count": 92,
     "metadata": {},
     "output_type": "execute_result"
    }
   ],
   "source": [
    "X_ren_test.shape"
   ]
  },
  {
   "cell_type": "code",
   "execution_count": 94,
   "id": "bb1c0061",
   "metadata": {},
   "outputs": [],
   "source": [
    "X_test_input=X_ren_test.reshape(16000,3)"
   ]
  },
  {
   "cell_type": "markdown",
   "id": "0250541a",
   "metadata": {},
   "source": [
    "## Code for Feedforward and backpropagation"
   ]
  },
  {
   "cell_type": "code",
   "execution_count": 97,
   "id": "bd9cfb12",
   "metadata": {},
   "outputs": [
    {
     "name": "stdout",
     "output_type": "stream",
     "text": [
      "For epoch 1, Training_rmse: 24.18769418326831, Validation_rmse: 14.698932309621593\n",
      "For epoch 2, Training_rmse: 27.56081787662675, Validation_rmse: 14.417386328796152\n",
      "For epoch 3, Training_rmse: 28.960357324900404, Validation_rmse: 15.256054176013183\n",
      "For epoch 4, Training_rmse: 39.23562008780063, Validation_rmse: 27.284865179101182\n",
      "For epoch 5, Training_rmse: 55.57575912683581, Validation_rmse: 32.81829180698046\n",
      "For epoch 6, Training_rmse: 55.6123700500324, Validation_rmse: 32.79639944196611\n",
      "For epoch 7, Training_rmse: 55.622912061761824, Validation_rmse: 32.768552719195355\n",
      "For epoch 8, Training_rmse: 55.631322855396775, Validation_rmse: 32.73654645600293\n",
      "For epoch 9, Training_rmse: 53.947266072668, Validation_rmse: 28.740469831510733\n",
      "For epoch 10, Training_rmse: 47.59736834820494, Validation_rmse: 28.673313364856174\n",
      "For epoch 11, Training_rmse: 47.598997764440696, Validation_rmse: 28.605254872031292\n",
      "For epoch 12, Training_rmse: 47.60048798511385, Validation_rmse: 28.536959424627295\n",
      "For epoch 13, Training_rmse: 47.60186885501731, Validation_rmse: 28.468930351110156\n",
      "For epoch 14, Training_rmse: 47.6031588588021, Validation_rmse: 28.401567063598417\n",
      "For epoch 15, Training_rmse: 47.604370291696696, Validation_rmse: 28.335197487997686\n",
      "For epoch 16, Training_rmse: 47.60551188259463, Validation_rmse: 28.27009585473149\n",
      "For epoch 17, Training_rmse: 47.606590177199685, Validation_rmse: 28.206493513385272\n",
      "For epoch 18, Training_rmse: 47.60761031711829, Validation_rmse: 28.144586070344335\n",
      "For epoch 19, Training_rmse: 47.60857650293518, Validation_rmse: 28.08453839062197\n",
      "For epoch 20, Training_rmse: 47.60949228189192, Validation_rmse: 28.026488243596003\n",
      "For epoch 21, Training_rmse: 47.61036073315156, Validation_rmse: 27.97054902515406\n",
      "For epoch 22, Training_rmse: 47.61118459060001, Validation_rmse: 27.91681182443988\n",
      "For epoch 23, Training_rmse: 47.611966326032174, Validation_rmse: 27.865347022837973\n",
      "For epoch 24, Training_rmse: 47.612708206377874, Validation_rmse: 27.816205571008478\n",
      "For epoch 25, Training_rmse: 47.61341233343114, Validation_rmse: 27.76942006541834\n",
      "For epoch 26, Training_rmse: 47.61408067155711, Validation_rmse: 27.72500572873715\n",
      "For epoch 27, Training_rmse: 47.61471506700042, Validation_rmse: 27.682961383720695\n"
     ]
    },
    {
     "name": "stderr",
     "output_type": "stream",
     "text": [
      "C:\\Users\\Atharva Atul Joshi\\AppData\\Local\\Temp\\ipykernel_17424\\517811356.py:18: RuntimeWarning: overflow encountered in exp\n",
      "  A=1/(1+np.exp(-(λ*n)))\n"
     ]
    },
    {
     "name": "stdout",
     "output_type": "stream",
     "text": [
      "For epoch 28, Training_rmse: 47.61531726133519, Validation_rmse: 27.64327049555444\n",
      "For epoch 29, Training_rmse: 47.61588890085833, Validation_rmse: 27.605902342008438\n",
      "For epoch 30, Training_rmse: 47.61643154321456, Validation_rmse: 27.570813353684933\n",
      "For epoch 31, Training_rmse: 47.61694666226266, Validation_rmse: 27.537948648096926\n",
      "For epoch 32, Training_rmse: 47.61743565188607, Validation_rmse: 27.507243761379183\n",
      "For epoch 33, Training_rmse: 47.61789982930397, Validation_rmse: 27.478626560712772\n",
      "For epoch 34, Training_rmse: 47.61834043827297, Validation_rmse: 27.452019299936783\n",
      "For epoch 35, Training_rmse: 47.61875865246353, Validation_rmse: 27.427340761649496\n",
      "For epoch 36, Training_rmse: 47.61915557916903, Validation_rmse: 27.404508413027653\n",
      "For epoch 37, Training_rmse: 47.61953226345438, Validation_rmse: 27.383440491305105\n",
      "For epoch 38, Training_rmse: 47.61988969274366, Validation_rmse: 27.364057929880474\n",
      "For epoch 39, Training_rmse: 47.62022880178268, Validation_rmse: 27.346286038356723\n",
      "For epoch 40, Training_rmse: 47.6205504778911, Validation_rmse: 27.33005585974793\n",
      "For epoch 41, Training_rmse: 47.620855566310624, Validation_rmse: 27.315305144949026\n",
      "For epoch 42, Training_rmse: 47.621144875504825, Validation_rmse: 27.301978906921658\n",
      "For epoch 43, Training_rmse: 47.62141918218984, Validation_rmse: 27.29002954268339\n",
      "For epoch 44, Training_rmse: 47.62167923591814, Validation_rmse: 27.279416537580364\n",
      "For epoch 45, Training_rmse: 47.621925763057845, Validation_rmse: 27.27010579085502\n",
      "For epoch 46, Training_rmse: 47.622159470045716, Validation_rmse: 27.262068621954473\n",
      "For epoch 47, Training_rmse: 47.622381045837116, Validation_rmse: 27.25528053172095\n",
      "For epoch 48, Training_rmse: 47.622591163550666, Validation_rmse: 27.24971980068989\n",
      "For epoch 49, Training_rmse: 47.622790481342165, Validation_rmse: 27.245366008198058\n",
      "For epoch 50, Training_rmse: 47.6229796426007, Validation_rmse: 27.242198551560882\n"
     ]
    },
    {
     "data": {
      "application/javascript": [
       "\n",
       "        if (window._pyforest_update_imports_cell) { window._pyforest_update_imports_cell('import matplotlib.pyplot as plt'); }\n",
       "    "
      ],
      "text/plain": [
       "<IPython.core.display.Javascript object>"
      ]
     },
     "metadata": {},
     "output_type": "display_data"
    },
    {
     "data": {
      "application/javascript": [
       "\n",
       "        if (window._pyforest_update_imports_cell) { window._pyforest_update_imports_cell('import matplotlib.pyplot as plt'); }\n",
       "    "
      ],
      "text/plain": [
       "<IPython.core.display.Javascript object>"
      ]
     },
     "metadata": {},
     "output_type": "display_data"
    },
    {
     "data": {
      "application/javascript": [
       "\n",
       "        if (window._pyforest_update_imports_cell) { window._pyforest_update_imports_cell('import matplotlib.pyplot as plt'); }\n",
       "    "
      ],
      "text/plain": [
       "<IPython.core.display.Javascript object>"
      ]
     },
     "metadata": {},
     "output_type": "display_data"
    },
    {
     "data": {
      "application/javascript": [
       "\n",
       "        if (window._pyforest_update_imports_cell) { window._pyforest_update_imports_cell('import matplotlib.pyplot as plt'); }\n",
       "    "
      ],
      "text/plain": [
       "<IPython.core.display.Javascript object>"
      ]
     },
     "metadata": {},
     "output_type": "display_data"
    },
    {
     "data": {
      "application/javascript": [
       "\n",
       "        if (window._pyforest_update_imports_cell) { window._pyforest_update_imports_cell('import matplotlib.pyplot as plt'); }\n",
       "    "
      ],
      "text/plain": [
       "<IPython.core.display.Javascript object>"
      ]
     },
     "metadata": {},
     "output_type": "display_data"
    },
    {
     "data": {
      "application/javascript": [
       "\n",
       "        if (window._pyforest_update_imports_cell) { window._pyforest_update_imports_cell('import matplotlib.pyplot as plt'); }\n",
       "    "
      ],
      "text/plain": [
       "<IPython.core.display.Javascript object>"
      ]
     },
     "metadata": {},
     "output_type": "display_data"
    },
    {
     "data": {
      "application/javascript": [
       "\n",
       "        if (window._pyforest_update_imports_cell) { window._pyforest_update_imports_cell('import matplotlib.pyplot as plt'); }\n",
       "    "
      ],
      "text/plain": [
       "<IPython.core.display.Javascript object>"
      ]
     },
     "metadata": {},
     "output_type": "display_data"
    },
    {
     "data": {
      "image/png": "[encoded data removed]",
      "text/plain": [
       "<Figure size 640x480 with 1 Axes>"
      ]
     },
     "metadata": {},
     "output_type": "display_data"
    }
   ],
   "source": [
    "epochs = 50\n",
    "input_size = 3\n",
    "hidden_neurons = 10\n",
    "output_size = 2\n",
    "η = 0.3\n",
    "α = 0.5\n",
    "error_train = []\n",
    "error_val = []\n",
    "\n",
    "hidden_weights = 0.01*np.random.randn(input_size, hidden_neurons)\n",
    "output_weights = 0.01*np.random.randn(hidden_neurons, output_size)\n",
    "momentum_Δw = np.zeros((hidden_neurons, output_size))\n",
    "momentum_Δwh = np.zeros((input_size, hidden_neurons))\n",
    "decay_rate=0.95\n",
    "\n",
    "λ=1\n",
    "def sigmoid(n):\n",
    "    A=1/(1+np.exp(-(λ*n)))\n",
    "    return A\n",
    "\n",
    "\n",
    "for epoch in range(epochs):\n",
    "\n",
    "    error_rmse = np.zeros(2,)\n",
    "    error_rmse_val = np.zeros(2,)\n",
    "\n",
    "    for k in range(len(X_train_input)):\n",
    "        hidden_output = np.dot(X_train_input[k], hidden_weights)\n",
    "        hidden_input = sigmoid(hidden_output)\n",
    "        pred_output = sigmoid(np.dot(hidden_input, output_weights))\n",
    "        error_output = Y_train_output[k] - pred_output\n",
    "        error_rmse += pred_output\n",
    "\n",
    "        δk = λ * pred_output * (1 - pred_output) * error_output\n",
    "\n",
    "        Δwk1 = []\n",
    "        for i in range(len(δk)):\n",
    "            for j in range(len(hidden_input)):\n",
    "                dw1 = η * δk[i] * hidden_input[j]\n",
    "                Δwk1.append(dw1)\n",
    "\n",
    "        Δwk = np.array(Δwk1).reshape(hidden_neurons, output_size)\n",
    "\n",
    "        output_weights = output_weights + Δwk + α * momentum_Δw\n",
    "\n",
    "        δh = []\n",
    "        for i in range(len(hidden_input)):\n",
    "            dh = λ * hidden_input[i] * (1 - hidden_input[i]) * (δk[0] * output_weights[i][0] + δk[1] * output_weights[i][1])\n",
    "            δh.append(dh)\n",
    "\n",
    "        Δwh1 = []\n",
    "        for i in range(len(δh)):\n",
    "            for j in range(len(X_train_input[k])):\n",
    "                dw2 = η * δh[i] * X_train_input[0][j]\n",
    "                Δwh1.append(dw2)\n",
    "\n",
    "        Δwh = np.array(Δwh1).reshape(input_size, hidden_neurons)\n",
    "\n",
    "        hidden_weights = hidden_weights + Δwh + α * momentum_Δwh\n",
    "\n",
    "        momentum_Δw = Δwk\n",
    "        momentum_Δwh = Δwh\n",
    " \n",
    "    η*=decay_rate\n",
    "    rmse_1 = np.mean(error_rmse[0])\n",
    "    rmse_2 = np.mean(error_rmse[1])\n",
    "    mean_error_train = (rmse_1 + rmse_2) / 2\n",
    "\n",
    "    rmse_train = np.sqrt((mean_error_train - mean_actual_train) ** 2 / len(X_train_input))\n",
    "    error_train.append(rmse_train)\n",
    "\n",
    "    for k in range(len(X_val_input)):\n",
    "        hidden_output_v = np.dot(X_val_input[k], hidden_weights)\n",
    "        hidden_input_v = sigmoid(hidden_output_v)\n",
    "        pred_output_v = sigmoid(np.dot(hidden_input_v, output_weights))\n",
    "        error_output_v = pred_output_v - Y_val_output[k]\n",
    "        error_rmse_val += pred_output_v\n",
    "\n",
    "    rmse_1_val = np.mean(error_rmse_val[0])\n",
    "    rmse_2_val = np.mean(error_rmse_val[1])\n",
    "    mean_error_val = (rmse_1_val + rmse_2_val) / 2\n",
    "\n",
    "    rmse_val = np.sqrt((mean_error_val - mean_actual_val) ** 2 / len(X_val_input))\n",
    "    error_val.append(rmse_val)\n",
    "\n",
    "\n",
    "\n",
    "    print(f'For epoch {epoch + 1}, Training_rmse: {rmse_train}, Validation_rmse: {rmse_val}')\n",
    "\n",
    "\n",
    "\n",
    "plt.plot(range(1, epoch + 2), error_train, marker='o', label='Training Error')\n",
    "plt.plot(range(1, epoch + 2), error_val, marker='o', label='Validation Error')\n",
    "plt.title('Error vs Epochs')\n",
    "plt.xlabel('Epochs')\n",
    "plt.ylabel('RMSE')\n",
    "plt.legend()\n",
    "plt.show()\n",
    "\n"
   ]
  },
  {
   "cell_type": "markdown",
   "id": "f3858c3f",
   "metadata": {},
   "source": [
    "## Implementing Early Stopping Criteria and implement the corresponding weights on Test set"
   ]
  },
  {
   "cell_type": "code",
   "execution_count": 42,
   "id": "84b15f6d",
   "metadata": {},
   "outputs": [
    {
     "name": "stdout",
     "output_type": "stream",
     "text": [
      "For epoch 1, Training_rmse: 87.41236746244192, Validation_rmse: 5.220744684655856\n",
      "For epoch 2, Training_rmse: 29.797056521871056, Validation_rmse: 20.960211363734654\n",
      "For epoch 3, Training_rmse: 20.643386872893114, Validation_rmse: 7.780145701045903\n",
      "For epoch 4, Training_rmse: 14.693181291447793, Validation_rmse: 6.968009366975126\n",
      "For epoch 5, Training_rmse: 12.85886814614041, Validation_rmse: 6.544311104800538\n",
      "For epoch 6, Training_rmse: 11.572858745841035, Validation_rmse: 5.998711679686273\n",
      "Early stopping at epoch 6\n",
      "Test_rmse: 5.182634397670881\n"
     ]
    },
    {
     "data": {
      "application/javascript": [
       "\n",
       "        if (window._pyforest_update_imports_cell) { window._pyforest_update_imports_cell('import matplotlib.pyplot as plt'); }\n",
       "    "
      ],
      "text/plain": [
       "<IPython.core.display.Javascript object>"
      ]
     },
     "metadata": {},
     "output_type": "display_data"
    },
    {
     "data": {
      "application/javascript": [
       "\n",
       "        if (window._pyforest_update_imports_cell) { window._pyforest_update_imports_cell('import matplotlib.pyplot as plt'); }\n",
       "    "
      ],
      "text/plain": [
       "<IPython.core.display.Javascript object>"
      ]
     },
     "metadata": {},
     "output_type": "display_data"
    },
    {
     "data": {
      "application/javascript": [
       "\n",
       "        if (window._pyforest_update_imports_cell) { window._pyforest_update_imports_cell('import matplotlib.pyplot as plt'); }\n",
       "    "
      ],
      "text/plain": [
       "<IPython.core.display.Javascript object>"
      ]
     },
     "metadata": {},
     "output_type": "display_data"
    },
    {
     "data": {
      "application/javascript": [
       "\n",
       "        if (window._pyforest_update_imports_cell) { window._pyforest_update_imports_cell('import matplotlib.pyplot as plt'); }\n",
       "    "
      ],
      "text/plain": [
       "<IPython.core.display.Javascript object>"
      ]
     },
     "metadata": {},
     "output_type": "display_data"
    },
    {
     "data": {
      "application/javascript": [
       "\n",
       "        if (window._pyforest_update_imports_cell) { window._pyforest_update_imports_cell('import matplotlib.pyplot as plt'); }\n",
       "    "
      ],
      "text/plain": [
       "<IPython.core.display.Javascript object>"
      ]
     },
     "metadata": {},
     "output_type": "display_data"
    },
    {
     "data": {
      "application/javascript": [
       "\n",
       "        if (window._pyforest_update_imports_cell) { window._pyforest_update_imports_cell('import matplotlib.pyplot as plt'); }\n",
       "    "
      ],
      "text/plain": [
       "<IPython.core.display.Javascript object>"
      ]
     },
     "metadata": {},
     "output_type": "display_data"
    },
    {
     "data": {
      "application/javascript": [
       "\n",
       "        if (window._pyforest_update_imports_cell) { window._pyforest_update_imports_cell('import matplotlib.pyplot as plt'); }\n",
       "    "
      ],
      "text/plain": [
       "<IPython.core.display.Javascript object>"
      ]
     },
     "metadata": {},
     "output_type": "display_data"
    },
    {
     "data": {
      "image/png": "[encoded data removed]",
      "text/plain": [
       "<Figure size 640x480 with 1 Axes>"
      ]
     },
     "metadata": {},
     "output_type": "display_data"
    }
   ],
   "source": [
    "\n",
    "epochs = 150\n",
    "input_size = 3\n",
    "hidden_neurons = 30\n",
    "output_size = 2\n",
    "η = 0.3\n",
    "α = 0.5\n",
    "error_train = []\n",
    "error_val = []\n",
    "error_test=[]\n",
    "\n",
    "hidden_weights = np.random.rand(input_size, hidden_neurons)\n",
    "output_weights = np.random.rand(hidden_neurons, output_size)\n",
    "momentum_Δw = np.zeros((hidden_neurons, output_size))\n",
    "momentum_Δwh = np.zeros((input_size, hidden_neurons))\n",
    "decay_rate=0.95\n",
    "\n",
    "λ=1\n",
    "def sigmoid(n):\n",
    "    A=1/(1+np.exp(-(λ*n)))\n",
    "    return A\n",
    "\n",
    "tolerance = 5  # Number of epochs with no improvement after which training will be stopped\n",
    "best_val_loss = float('inf')\n",
    "best_weights_hidden = None\n",
    "best_weights_output = None\n",
    "\n",
    "\n",
    "for epoch in range(epochs):\n",
    "\n",
    "    error_rmse = np.zeros(2,)\n",
    "    error_rmse_val = np.zeros(2,)\n",
    "    error_rmse_test=np.zeros(2,)\n",
    "\n",
    "    for k in range(len(X_train_input)):\n",
    "        #Feedforward network\n",
    "        hidden_output = np.dot(X_train_input[k], hidden_weights)\n",
    "        hidden_input = sigmoid(hidden_output)\n",
    "        \n",
    "        pred_output = sigmoid(np.dot(hidden_input, output_weights))\n",
    "        \n",
    "        error_output = Y_train_output[k] - pred_output\n",
    "        error_rmse += pred_output\n",
    "        \n",
    "        #Backpropagation\n",
    "        δk = λ * pred_output * (1 - pred_output) * error_output\n",
    "\n",
    "        Δwk1 = []\n",
    "        for i in range(len(δk)):\n",
    "            for j in range(len(hidden_input)):\n",
    "                dw1 = η * δk[i] * hidden_input[j]\n",
    "                Δwk1.append(dw1)\n",
    "\n",
    "        Δwk = np.array(Δwk1).reshape(hidden_neurons, output_size)\n",
    "        \n",
    "        # Updating the output_weights\n",
    "        output_weights = output_weights + Δwk + (α * momentum_Δw)\n",
    "\n",
    "        δh = []\n",
    "        for i in range(len(hidden_input)):\n",
    "            dh = λ * hidden_input[i] * (1 - hidden_input[i]) * (δk[0] * output_weights[i][0] + δk[1] * output_weights[i][1])\n",
    "            δh.append(dh)\n",
    "\n",
    "        Δwh1 = []\n",
    "        for i in range(len(δh)):\n",
    "            for j in range(len(X_train_input[k])):\n",
    "                dw2 = η * δh[i] * X_train_input[0][j]\n",
    "                Δwh1.append(dw2)\n",
    "\n",
    "        Δwh = np.array(Δwh1).reshape(input_size, hidden_neurons)\n",
    "\n",
    "        hidden_weights = hidden_weights + Δwh + (α * momentum_Δwh)\n",
    "\n",
    "        momentum_Δw = Δwk\n",
    "        momentum_Δwh = Δwh\n",
    " \n",
    "    η*=decay_rate\n",
    "    rmse_1 = np.mean(error_rmse[0])\n",
    "    rmse_2 = np.mean(error_rmse[1])\n",
    "    mean_error_train = (rmse_1 + rmse_2) / 2\n",
    "\n",
    "    rmse_train = np.sqrt((mean_error_train - mean_actual_train) ** 2 / len(X_train_input))\n",
    "    error_train.append(rmse_train)\n",
    "\n",
    "    for k in range(len(X_val_input)):\n",
    "        hidden_output_v = np.dot(X_val_input[k], hidden_weights)\n",
    "        hidden_input_v = sigmoid(hidden_output_v)\n",
    "\n",
    "        pred_output_v = sigmoid(np.dot(hidden_input_v, output_weights))\n",
    "        error_output_v = pred_output_v - Y_val_output[k]\n",
    "        error_rmse_val += pred_output_v\n",
    "\n",
    "    rmse_1_val = np.mean(error_rmse_val[0])\n",
    "    rmse_2_val = np.mean(error_rmse_val[1])\n",
    "    mean_error_val = (rmse_1_val + rmse_2_val) / 2\n",
    "\n",
    "    rmse_val = np.sqrt((mean_error_val - mean_actual_val) ** 2 / len(X_val_input))\n",
    "    error_val.append(rmse_val)\n",
    "    \n",
    "\n",
    "\n",
    "\n",
    "\n",
    "\n",
    "    print(f'For epoch {epoch + 1}, Training_rmse: {rmse_train}, Validation_rmse: {rmse_val}')\n",
    "        # Early stopping check\n",
    "    if rmse_val < best_val_loss:\n",
    "        best_val_loss = rmse_val\n",
    "        best_weights_hidden = np.copy(hidden_weights)\n",
    "        best_weights_output = np.copy(output_weights)\n",
    "        tolerance_counter = 0\n",
    "    else:\n",
    "        tolerance_counter += 1\n",
    "        if tolerance_counter >= tolerance:\n",
    "            print(f'Early stopping at epoch {epoch + 1}')\n",
    "            break\n",
    "\n",
    "\n",
    "hidden_weights = best_weights_hidden\n",
    "output_weights = best_weights_output\n",
    "\n",
    "for k in range(len(X_test_input)):\n",
    "    hidden_output_t = np.dot(X_test_input[k], hidden_weights)\n",
    "    hidden_input_t = sigmoid(hidden_output_t)\n",
    "\n",
    "    pred_output_t = sigmoid(np.dot(hidden_input_t, output_weights))\n",
    "    error_output_t = pred_output_t - Y_test_output[k]\n",
    "    error_rmse_test += pred_output_t\n",
    "\n",
    "rmse_1_test = np.mean(error_rmse_test[0])\n",
    "rmse_2_test = np.mean(error_rmse_test[1])\n",
    "mean_error_test = (rmse_1_test + rmse_2_test) / 2\n",
    "\n",
    "rmse_test = np.sqrt((mean_error_test - mean_actual_test) ** 2 / len(X_test_input))\n",
    "error_test.append(rmse_test)\n",
    "print(f'Test_rmse: {rmse_test}')\n",
    "\n",
    "plt.plot(range(1, epoch + 2), error_train, marker='o', label='Training Error')\n",
    "plt.plot(range(1, epoch + 2), error_val, marker='o', label='Validation Error')\n",
    "plt.title('Error vs Epochs')\n",
    "plt.xlabel('Epochs')\n",
    "plt.ylabel('RMSE')\n",
    "plt.legend()\n",
    "plt.show()\n"
   ]
  },
  {
   "cell_type": "code",
   "execution_count": 45,
   "id": "64b5fe77",
   "metadata": {
    "scrolled": true
   },
   "outputs": [],
   "source": [
    "hidden_weights"
   ]
  },
  {
   "cell_type": "code",
   "execution_count": 45,
   "id": "c5f8d13a",
   "metadata": {},
   "outputs": [
    {
     "data": {
      "text/plain": [
       "array([[-4.31466763,  0.55175392, -8.36526087, -2.6060457 ],\n",
       "       [ 0.70047304, -5.37626021,  1.75047346,  0.3419573 ],\n",
       "       [ 2.08286967,  5.18985061,  1.23226541,  9.39432278]])"
      ]
     },
     "execution_count": 45,
     "metadata": {},
     "output_type": "execute_result"
    }
   ],
   "source": [
    "best_weights_hidden"
   ]
  },
  {
   "cell_type": "code",
   "execution_count": 44,
   "id": "5af24071",
   "metadata": {},
   "outputs": [
    {
     "data": {
      "text/plain": [
       "array([[ -0.7196497 , -23.36850415],\n",
       "       [-10.05148328, -28.92765808],\n",
       "       [-26.61113837,  -0.13803241],\n",
       "       [-22.7941933 , -24.21306043],\n",
       "       [-28.02283506, -25.45416141],\n",
       "       [-55.79002748, -32.76946788],\n",
       "       [-26.85435542, -31.66093631],\n",
       "       [-28.47280808, -27.70783889],\n",
       "       [-27.18151639, -26.19553922],\n",
       "       [-25.53412068, -27.16729057],\n",
       "       [  6.78936568,  19.15177034],\n",
       "       [ 10.00796178,  20.95358448],\n",
       "       [ 23.38643857,  17.25887899],\n",
       "       [ 19.5756878 ,  21.71320751],\n",
       "       [ 23.04214657,  21.56850525],\n",
       "       [ 22.7311508 ,  18.35633689],\n",
       "       [ 20.29667878,  19.24068838],\n",
       "       [ 23.17187892,  21.89464175],\n",
       "       [ 22.63932816,  21.51143074],\n",
       "       [ 20.20488984,  22.87211675]])"
      ]
     },
     "execution_count": 44,
     "metadata": {},
     "output_type": "execute_result"
    }
   ],
   "source": [
    "best_weights_output"
   ]
  },
  {
   "cell_type": "markdown",
   "id": "26483b95",
   "metadata": {},
   "source": [
    "## Parameter Tuning for values of Lambda and Learning rate"
   ]
  },
  {
   "cell_type": "code",
   "execution_count": 43,
   "id": "305f889b",
   "metadata": {},
   "outputs": [
    {
     "name": "stdout",
     "output_type": "stream",
     "text": [
      "For epoch 1, Training_rmse: 47.79584050807269, Validation_rmse: 17.753526738523362\n",
      "For epoch 2, Training_rmse: 33.21100936017807, Validation_rmse: 15.788305028488326\n",
      "For epoch 3, Training_rmse: 47.039760948740614, Validation_rmse: 32.41332046944312\n",
      "For epoch 4, Training_rmse: 48.02956446320596, Validation_rmse: 18.980280171784266\n",
      "For epoch 5, Training_rmse: 34.05466461025103, Validation_rmse: 23.412400840773106\n",
      "For epoch 6, Training_rmse: 45.46269341309388, Validation_rmse: 25.39415192029059\n",
      "For epoch 7, Training_rmse: 43.298715088196275, Validation_rmse: 23.77754029929354\n",
      "Early stopping at epoch 7\n",
      "For epoch 1, Training_rmse: 28.235028980096097, Validation_rmse: 5.4707470210917135\n",
      "For epoch 2, Training_rmse: 7.4969750917618825, Validation_rmse: 5.725053175762726\n",
      "For epoch 3, Training_rmse: 9.061027477612587, Validation_rmse: 5.649944362432036\n",
      "For epoch 4, Training_rmse: 9.576168705184001, Validation_rmse: 8.384984765810561\n",
      "For epoch 5, Training_rmse: 16.845522323071684, Validation_rmse: 10.406031431821264\n",
      "For epoch 6, Training_rmse: 29.101021106486314, Validation_rmse: 24.14303051957302\n",
      "Early stopping at epoch 6\n",
      "For epoch 1, Training_rmse: 30.071635282322756, Validation_rmse: 0.002382766220769624\n",
      "For epoch 2, Training_rmse: 0.0013067011481841984, Validation_rmse: 0.003092881674064489\n",
      "For epoch 3, Training_rmse: 0.0017103871758130272, Validation_rmse: 0.0031866572389515307\n",
      "For epoch 4, Training_rmse: 0.001804649039423508, Validation_rmse: 0.003223479660658898\n",
      "For epoch 5, Training_rmse: 0.0018477864043301084, Validation_rmse: 0.003243105536702762\n",
      "For epoch 6, Training_rmse: 0.00187258712615291, Validation_rmse: 0.003255282001951018\n",
      "Early stopping at epoch 6\n",
      "For epoch 1, Training_rmse: 88.94258245775283, Validation_rmse: 51.14808763280966\n",
      "For epoch 2, Training_rmse: 89.21303097332958, Validation_rmse: 51.719801487209196\n",
      "For epoch 3, Training_rmse: 79.69845114851601, Validation_rmse: 24.872873736694228\n",
      "For epoch 4, Training_rmse: 38.38659026272839, Validation_rmse: 14.591329071722004\n",
      "For epoch 5, Training_rmse: 25.313469295321784, Validation_rmse: 7.890937485120108\n",
      "For epoch 6, Training_rmse: 9.737895902777932, Validation_rmse: 6.801585310179792\n",
      "For epoch 7, Training_rmse: 23.97850277430373, Validation_rmse: 15.972070334102503\n",
      "For epoch 8, Training_rmse: 17.28815461450333, Validation_rmse: 8.798266032696828\n",
      "For epoch 9, Training_rmse: 14.504842786861767, Validation_rmse: 5.119256060242814\n",
      "For epoch 10, Training_rmse: 20.9772802280967, Validation_rmse: 10.499989922383202\n",
      "For epoch 11, Training_rmse: 24.797710863546474, Validation_rmse: 22.639000593115778\n",
      "For epoch 12, Training_rmse: 44.07366169184116, Validation_rmse: 27.45509431090554\n",
      "For epoch 13, Training_rmse: 46.44015794061482, Validation_rmse: 28.602261059585032\n",
      "For epoch 14, Training_rmse: 50.91174340465529, Validation_rmse: 30.41773923998811\n",
      "Early stopping at epoch 14\n",
      "For epoch 1, Training_rmse: 79.08182060465322, Validation_rmse: 26.52035597162496\n",
      "For epoch 2, Training_rmse: 63.840871220706525, Validation_rmse: 30.255847622277813\n",
      "For epoch 3, Training_rmse: 49.81575355474896, Validation_rmse: 31.159629724277234\n",
      "For epoch 4, Training_rmse: 53.87100451604285, Validation_rmse: 35.50915432079566\n",
      "For epoch 5, Training_rmse: 64.19986770526211, Validation_rmse: 35.72336923453286\n",
      "For epoch 6, Training_rmse: 59.91294395029255, Validation_rmse: 34.00672282539276\n",
      "Early stopping at epoch 6\n",
      "For epoch 1, Training_rmse: 71.1958265981192, Validation_rmse: 22.94335563569158\n",
      "For epoch 2, Training_rmse: 57.53606616378629, Validation_rmse: 52.63293994001169\n",
      "For epoch 3, Training_rmse: 72.39235430935551, Validation_rmse: 31.61866529965464\n",
      "For epoch 4, Training_rmse: 54.836501598254465, Validation_rmse: 31.86436246386162\n",
      "For epoch 5, Training_rmse: 59.896360080030206, Validation_rmse: 35.633693582869014\n",
      "For epoch 6, Training_rmse: 65.68783412507196, Validation_rmse: 34.40046755470328\n",
      "Early stopping at epoch 6\n",
      "For epoch 1, Training_rmse: 89.14727978010478, Validation_rmse: 55.719526988149816\n",
      "For epoch 2, Training_rmse: 62.02817317685796, Validation_rmse: 24.21913200098688\n",
      "For epoch 3, Training_rmse: 31.24907809768951, Validation_rmse: 14.462615079794308\n",
      "For epoch 4, Training_rmse: 28.595052484952088, Validation_rmse: 16.192062541327523\n",
      "For epoch 5, Training_rmse: 28.877532569648068, Validation_rmse: 17.844335645102852\n",
      "For epoch 6, Training_rmse: 30.40676141137381, Validation_rmse: 19.953232857525467\n",
      "For epoch 7, Training_rmse: 32.59769994841345, Validation_rmse: 20.12607717267971\n",
      "For epoch 8, Training_rmse: 32.403205988674195, Validation_rmse: 20.299055174975614\n",
      "Early stopping at epoch 8\n",
      "For epoch 1, Training_rmse: 89.24531927398016, Validation_rmse: 52.49717482860935\n",
      "For epoch 2, Training_rmse: 83.77417032071, Validation_rmse: 45.87578394181086\n",
      "For epoch 3, Training_rmse: 83.70355693518596, Validation_rmse: 50.727128310078356\n",
      "For epoch 4, Training_rmse: 87.0407366906642, Validation_rmse: 49.60193858387351\n",
      "For epoch 5, Training_rmse: 86.02682578784297, Validation_rmse: 49.936232852857025\n",
      "For epoch 6, Training_rmse: 85.38582687614692, Validation_rmse: 46.81313603498034\n",
      "For epoch 7, Training_rmse: 69.58988643948929, Validation_rmse: 40.6107773918121\n",
      "For epoch 8, Training_rmse: 68.8331671896926, Validation_rmse: 38.50904310580144\n",
      "For epoch 9, Training_rmse: 68.83596232838224, Validation_rmse: 40.0764097471393\n",
      "For epoch 10, Training_rmse: 66.91800539641959, Validation_rmse: 36.8468705986544\n",
      "For epoch 11, Training_rmse: 64.85355223912575, Validation_rmse: 36.89415655979217\n",
      "For epoch 12, Training_rmse: 63.494060886063245, Validation_rmse: 35.634418205556514\n",
      "For epoch 13, Training_rmse: 60.24148908698074, Validation_rmse: 33.35836706586839\n",
      "For epoch 14, Training_rmse: 55.58544319307721, Validation_rmse: 30.603755370845423\n",
      "For epoch 15, Training_rmse: 49.93765876395404, Validation_rmse: 26.921661612410407\n",
      "For epoch 16, Training_rmse: 43.40486115985978, Validation_rmse: 23.042754519318382\n",
      "For epoch 17, Training_rmse: 38.64881617006519, Validation_rmse: 21.162005778212155\n",
      "For epoch 18, Training_rmse: 36.03029911364445, Validation_rmse: 19.7131866664588\n",
      "For epoch 19, Training_rmse: 33.85101644428468, Validation_rmse: 18.41432709359478\n",
      "For epoch 20, Training_rmse: 31.79318598713491, Validation_rmse: 17.28772084029646\n",
      "For epoch 21, Training_rmse: 30.02688634236436, Validation_rmse: 16.111413668868074\n",
      "For epoch 22, Training_rmse: 28.29805807324263, Validation_rmse: 15.333873980931058\n",
      "For epoch 23, Training_rmse: 26.28089319759561, Validation_rmse: 14.08454888400345\n",
      "For epoch 24, Training_rmse: 23.84742180397696, Validation_rmse: 12.861932977403258\n",
      "For epoch 25, Training_rmse: 22.006561845138886, Validation_rmse: 11.857087173608047\n",
      "For epoch 26, Training_rmse: 20.397445932967194, Validation_rmse: 10.868732347071223\n",
      "For epoch 27, Training_rmse: 18.83803513736223, Validation_rmse: 9.894303362574886\n",
      "For epoch 28, Training_rmse: 17.236217856130068, Validation_rmse: 9.111646562801644\n",
      "For epoch 29, Training_rmse: 16.13630695797447, Validation_rmse: 8.658235903562971\n",
      "For epoch 30, Training_rmse: 15.441134151822093, Validation_rmse: 8.121862237025145\n",
      "For epoch 31, Training_rmse: 14.4544182454864, Validation_rmse: 7.661004251971518\n",
      "For epoch 32, Training_rmse: 13.706140619129751, Validation_rmse: 7.360066216382627\n",
      "For epoch 33, Training_rmse: 13.131690597348104, Validation_rmse: 7.0773133253270935\n",
      "For epoch 34, Training_rmse: 12.925514183333252, Validation_rmse: 7.075389187536607\n",
      "For epoch 35, Training_rmse: 12.934068068481386, Validation_rmse: 7.0792917636167525\n",
      "For epoch 36, Training_rmse: 12.80953704832868, Validation_rmse: 6.9827419386151695\n",
      "For epoch 37, Training_rmse: 12.536136653195278, Validation_rmse: 6.856036017684225\n",
      "For epoch 38, Training_rmse: 12.431989363062312, Validation_rmse: 6.987636235434294\n",
      "For epoch 39, Training_rmse: 12.949768676309542, Validation_rmse: 7.689106288529654\n",
      "For epoch 40, Training_rmse: 15.150890213848573, Validation_rmse: 9.382368178296652\n",
      "For epoch 41, Training_rmse: 17.670238254871858, Validation_rmse: 10.25784691050693\n",
      "For epoch 42, Training_rmse: 18.11633229429378, Validation_rmse: 10.306412017126725\n",
      "Early stopping at epoch 42\n",
      "For epoch 1, Training_rmse: 89.63910685980208, Validation_rmse: 51.32550366363367\n"
     ]
    },
    {
     "name": "stdout",
     "output_type": "stream",
     "text": [
      "For epoch 2, Training_rmse: 89.20408022505976, Validation_rmse: 51.30964436473261\n",
      "For epoch 3, Training_rmse: 89.18407160459878, Validation_rmse: 51.27552773264638\n",
      "For epoch 4, Training_rmse: 89.14885547569824, Validation_rmse: 51.21568742789929\n",
      "For epoch 5, Training_rmse: 89.08818800415428, Validation_rmse: 51.128175537619825\n",
      "For epoch 6, Training_rmse: 88.98748695961095, Validation_rmse: 51.01836071807375\n",
      "For epoch 7, Training_rmse: 88.84265220385656, Validation_rmse: 50.91008386825299\n",
      "For epoch 8, Training_rmse: 88.69663546412137, Validation_rmse: 50.85688111355899\n",
      "For epoch 9, Training_rmse: 88.65230769317694, Validation_rmse: 50.91604896153443\n",
      "For epoch 10, Training_rmse: 88.70820687440522, Validation_rmse: 50.9801249535065\n",
      "For epoch 11, Training_rmse: 88.18636930013894, Validation_rmse: 50.336469727248364\n",
      "For epoch 12, Training_rmse: 85.82513566325761, Validation_rmse: 48.75207742709996\n",
      "For epoch 13, Training_rmse: 82.27283340483368, Validation_rmse: 47.214372347057555\n",
      "For epoch 14, Training_rmse: 78.84710519059577, Validation_rmse: 45.742605066896246\n",
      "For epoch 15, Training_rmse: 75.6796683330577, Validation_rmse: 44.09814755597065\n",
      "For epoch 16, Training_rmse: 72.51253502706551, Validation_rmse: 42.1093845063476\n",
      "For epoch 17, Training_rmse: 69.05328626913952, Validation_rmse: 39.69936457130858\n",
      "For epoch 18, Training_rmse: 65.20986777075517, Validation_rmse: 37.02515251930845\n",
      "For epoch 19, Training_rmse: 61.261927464650626, Validation_rmse: 34.43401438149288\n",
      "For epoch 20, Training_rmse: 57.62806083411811, Validation_rmse: 32.194360349604985\n",
      "For epoch 21, Training_rmse: 54.544395865652916, Validation_rmse: 30.374408877951694\n",
      "For epoch 22, Training_rmse: 52.07100800445157, Validation_rmse: 28.949074164250966\n",
      "For epoch 23, Training_rmse: 50.27418374110009, Validation_rmse: 27.939374385775757\n",
      "For epoch 24, Training_rmse: 49.30706153175715, Validation_rmse: 27.404838298055964\n",
      "For epoch 25, Training_rmse: 48.886680889576624, Validation_rmse: 26.911002665882403\n",
      "For epoch 26, Training_rmse: 47.705624562375355, Validation_rmse: 25.72383901553569\n",
      "For epoch 27, Training_rmse: 44.925900666168964, Validation_rmse: 23.78604270313787\n",
      "For epoch 28, Training_rmse: 41.02102262907563, Validation_rmse: 21.55699726775757\n",
      "For epoch 29, Training_rmse: 37.03218435555306, Validation_rmse: 19.523220740184623\n",
      "For epoch 30, Training_rmse: 33.66823078270056, Validation_rmse: 17.886596064851588\n",
      "For epoch 31, Training_rmse: 31.076275575073844, Validation_rmse: 16.634871515843034\n",
      "For epoch 32, Training_rmse: 29.136700211035524, Validation_rmse: 15.691727745088112\n",
      "For epoch 33, Training_rmse: 27.691306492948407, Validation_rmse: 14.983940338595984\n",
      "For epoch 34, Training_rmse: 26.61381855742361, Validation_rmse: 14.45601593708473\n",
      "For epoch 35, Training_rmse: 25.81538424902019, Validation_rmse: 14.06874087937302\n",
      "For epoch 36, Training_rmse: 25.235865639594063, Validation_rmse: 13.795109847116128\n",
      "For epoch 37, Training_rmse: 24.835292543228853, Validation_rmse: 13.61692918766855\n",
      "For epoch 38, Training_rmse: 24.587866814329665, Validation_rmse: 13.522502721060635\n",
      "For epoch 39, Training_rmse: 24.478198162410212, Validation_rmse: 13.505208691610472\n",
      "For epoch 40, Training_rmse: 24.499157613963185, Validation_rmse: 13.562749983596166\n",
      "For epoch 41, Training_rmse: 24.650913992659145, Validation_rmse: 13.696943354678908\n",
      "For epoch 42, Training_rmse: 24.94092976671778, Validation_rmse: 13.914000900049196\n",
      "For epoch 43, Training_rmse: 25.384857886430243, Validation_rmse: 14.225324882874258\n",
      "For epoch 44, Training_rmse: 26.00837286132423, Validation_rmse: 14.64885332425432\n",
      "Early stopping at epoch 44\n",
      "Best configuration: {'hidden_neurons': 20, 'learning_rate': 0.5}\n",
      "Test_rmse: 13.53646385993455\n"
     ]
    },
    {
     "data": {
      "application/javascript": [
       "\n",
       "        if (window._pyforest_update_imports_cell) { window._pyforest_update_imports_cell('import matplotlib.pyplot as plt'); }\n",
       "    "
      ],
      "text/plain": [
       "<IPython.core.display.Javascript object>"
      ]
     },
     "metadata": {},
     "output_type": "display_data"
    },
    {
     "ename": "ValueError",
     "evalue": "x and y must have same first dimension, but have shapes (44,) and (139,)",
     "output_type": "error",
     "traceback": [
      "\u001b[1;31m---------------------------------------------------------------------------\u001b[0m",
      "\u001b[1;31mValueError\u001b[0m                                Traceback (most recent call last)",
      "Cell \u001b[1;32mIn[43], line 151\u001b[0m\n\u001b[0;32m    148\u001b[0m     error_test\u001b[38;5;241m.\u001b[39mappend(rmse_test)\n\u001b[0;32m    150\u001b[0m \u001b[38;5;28mprint\u001b[39m(\u001b[38;5;124mf\u001b[39m\u001b[38;5;124m'\u001b[39m\u001b[38;5;124mTest_rmse: \u001b[39m\u001b[38;5;132;01m{\u001b[39;00mrmse_test\u001b[38;5;132;01m}\u001b[39;00m\u001b[38;5;124m'\u001b[39m)\n\u001b[1;32m--> 151\u001b[0m plt\u001b[38;5;241m.\u001b[39mplot(\u001b[38;5;28mrange\u001b[39m(\u001b[38;5;241m1\u001b[39m, epoch \u001b[38;5;241m+\u001b[39m \u001b[38;5;241m2\u001b[39m), error_train, marker\u001b[38;5;241m=\u001b[39m\u001b[38;5;124m'\u001b[39m\u001b[38;5;124mo\u001b[39m\u001b[38;5;124m'\u001b[39m, label\u001b[38;5;241m=\u001b[39m\u001b[38;5;124m'\u001b[39m\u001b[38;5;124mTraining Error\u001b[39m\u001b[38;5;124m'\u001b[39m)\n\u001b[0;32m    152\u001b[0m plt\u001b[38;5;241m.\u001b[39mplot(\u001b[38;5;28mrange\u001b[39m(\u001b[38;5;241m1\u001b[39m, epoch \u001b[38;5;241m+\u001b[39m \u001b[38;5;241m2\u001b[39m), error_val, marker\u001b[38;5;241m=\u001b[39m\u001b[38;5;124m'\u001b[39m\u001b[38;5;124mo\u001b[39m\u001b[38;5;124m'\u001b[39m, label\u001b[38;5;241m=\u001b[39m\u001b[38;5;124m'\u001b[39m\u001b[38;5;124mValidation Error\u001b[39m\u001b[38;5;124m'\u001b[39m)\n\u001b[0;32m    153\u001b[0m plt\u001b[38;5;241m.\u001b[39mtitle(\u001b[38;5;124m'\u001b[39m\u001b[38;5;124mError vs Epochs\u001b[39m\u001b[38;5;124m'\u001b[39m)\n",
      "File \u001b[1;32mD:\\Anaconda\\Lib\\site-packages\\matplotlib\\pyplot.py:2812\u001b[0m, in \u001b[0;36mplot\u001b[1;34m(scalex, scaley, data, *args, **kwargs)\u001b[0m\n\u001b[0;32m   2810\u001b[0m \u001b[38;5;129m@_copy_docstring_and_deprecators\u001b[39m(Axes\u001b[38;5;241m.\u001b[39mplot)\n\u001b[0;32m   2811\u001b[0m \u001b[38;5;28;01mdef\u001b[39;00m \u001b[38;5;21mplot\u001b[39m(\u001b[38;5;241m*\u001b[39margs, scalex\u001b[38;5;241m=\u001b[39m\u001b[38;5;28;01mTrue\u001b[39;00m, scaley\u001b[38;5;241m=\u001b[39m\u001b[38;5;28;01mTrue\u001b[39;00m, data\u001b[38;5;241m=\u001b[39m\u001b[38;5;28;01mNone\u001b[39;00m, \u001b[38;5;241m*\u001b[39m\u001b[38;5;241m*\u001b[39mkwargs):\n\u001b[1;32m-> 2812\u001b[0m     \u001b[38;5;28;01mreturn\u001b[39;00m gca()\u001b[38;5;241m.\u001b[39mplot(\n\u001b[0;32m   2813\u001b[0m         \u001b[38;5;241m*\u001b[39margs, scalex\u001b[38;5;241m=\u001b[39mscalex, scaley\u001b[38;5;241m=\u001b[39mscaley,\n\u001b[0;32m   2814\u001b[0m         \u001b[38;5;241m*\u001b[39m\u001b[38;5;241m*\u001b[39m({\u001b[38;5;124m\"\u001b[39m\u001b[38;5;124mdata\u001b[39m\u001b[38;5;124m\"\u001b[39m: data} \u001b[38;5;28;01mif\u001b[39;00m data \u001b[38;5;129;01mis\u001b[39;00m \u001b[38;5;129;01mnot\u001b[39;00m \u001b[38;5;28;01mNone\u001b[39;00m \u001b[38;5;28;01melse\u001b[39;00m {}), \u001b[38;5;241m*\u001b[39m\u001b[38;5;241m*\u001b[39mkwargs)\n",
      "File \u001b[1;32mD:\\Anaconda\\Lib\\site-packages\\matplotlib\\axes\\_axes.py:1688\u001b[0m, in \u001b[0;36mAxes.plot\u001b[1;34m(self, scalex, scaley, data, *args, **kwargs)\u001b[0m\n\u001b[0;32m   1445\u001b[0m \u001b[38;5;250m\u001b[39m\u001b[38;5;124;03m\"\"\"\u001b[39;00m\n\u001b[0;32m   1446\u001b[0m \u001b[38;5;124;03mPlot y versus x as lines and/or markers.\u001b[39;00m\n\u001b[0;32m   1447\u001b[0m \n\u001b[1;32m   (...)\u001b[0m\n\u001b[0;32m   1685\u001b[0m \u001b[38;5;124;03m(``'green'``) or hex strings (``'#008000'``).\u001b[39;00m\n\u001b[0;32m   1686\u001b[0m \u001b[38;5;124;03m\"\"\"\u001b[39;00m\n\u001b[0;32m   1687\u001b[0m kwargs \u001b[38;5;241m=\u001b[39m cbook\u001b[38;5;241m.\u001b[39mnormalize_kwargs(kwargs, mlines\u001b[38;5;241m.\u001b[39mLine2D)\n\u001b[1;32m-> 1688\u001b[0m lines \u001b[38;5;241m=\u001b[39m [\u001b[38;5;241m*\u001b[39m\u001b[38;5;28mself\u001b[39m\u001b[38;5;241m.\u001b[39m_get_lines(\u001b[38;5;241m*\u001b[39margs, data\u001b[38;5;241m=\u001b[39mdata, \u001b[38;5;241m*\u001b[39m\u001b[38;5;241m*\u001b[39mkwargs)]\n\u001b[0;32m   1689\u001b[0m \u001b[38;5;28;01mfor\u001b[39;00m line \u001b[38;5;129;01min\u001b[39;00m lines:\n\u001b[0;32m   1690\u001b[0m     \u001b[38;5;28mself\u001b[39m\u001b[38;5;241m.\u001b[39madd_line(line)\n",
      "File \u001b[1;32mD:\\Anaconda\\Lib\\site-packages\\matplotlib\\axes\\_base.py:311\u001b[0m, in \u001b[0;36m_process_plot_var_args.__call__\u001b[1;34m(self, data, *args, **kwargs)\u001b[0m\n\u001b[0;32m    309\u001b[0m     this \u001b[38;5;241m+\u001b[39m\u001b[38;5;241m=\u001b[39m args[\u001b[38;5;241m0\u001b[39m],\n\u001b[0;32m    310\u001b[0m     args \u001b[38;5;241m=\u001b[39m args[\u001b[38;5;241m1\u001b[39m:]\n\u001b[1;32m--> 311\u001b[0m \u001b[38;5;28;01myield from\u001b[39;00m \u001b[38;5;28mself\u001b[39m\u001b[38;5;241m.\u001b[39m_plot_args(\n\u001b[0;32m    312\u001b[0m     this, kwargs, ambiguous_fmt_datakey\u001b[38;5;241m=\u001b[39mambiguous_fmt_datakey)\n",
      "File \u001b[1;32mD:\\Anaconda\\Lib\\site-packages\\matplotlib\\axes\\_base.py:504\u001b[0m, in \u001b[0;36m_process_plot_var_args._plot_args\u001b[1;34m(self, tup, kwargs, return_kwargs, ambiguous_fmt_datakey)\u001b[0m\n\u001b[0;32m    501\u001b[0m     \u001b[38;5;28mself\u001b[39m\u001b[38;5;241m.\u001b[39maxes\u001b[38;5;241m.\u001b[39myaxis\u001b[38;5;241m.\u001b[39mupdate_units(y)\n\u001b[0;32m    503\u001b[0m \u001b[38;5;28;01mif\u001b[39;00m x\u001b[38;5;241m.\u001b[39mshape[\u001b[38;5;241m0\u001b[39m] \u001b[38;5;241m!=\u001b[39m y\u001b[38;5;241m.\u001b[39mshape[\u001b[38;5;241m0\u001b[39m]:\n\u001b[1;32m--> 504\u001b[0m     \u001b[38;5;28;01mraise\u001b[39;00m \u001b[38;5;167;01mValueError\u001b[39;00m(\u001b[38;5;124mf\u001b[39m\u001b[38;5;124m\"\u001b[39m\u001b[38;5;124mx and y must have same first dimension, but \u001b[39m\u001b[38;5;124m\"\u001b[39m\n\u001b[0;32m    505\u001b[0m                      \u001b[38;5;124mf\u001b[39m\u001b[38;5;124m\"\u001b[39m\u001b[38;5;124mhave shapes \u001b[39m\u001b[38;5;132;01m{\u001b[39;00mx\u001b[38;5;241m.\u001b[39mshape\u001b[38;5;132;01m}\u001b[39;00m\u001b[38;5;124m and \u001b[39m\u001b[38;5;132;01m{\u001b[39;00my\u001b[38;5;241m.\u001b[39mshape\u001b[38;5;132;01m}\u001b[39;00m\u001b[38;5;124m\"\u001b[39m)\n\u001b[0;32m    506\u001b[0m \u001b[38;5;28;01mif\u001b[39;00m x\u001b[38;5;241m.\u001b[39mndim \u001b[38;5;241m>\u001b[39m \u001b[38;5;241m2\u001b[39m \u001b[38;5;129;01mor\u001b[39;00m y\u001b[38;5;241m.\u001b[39mndim \u001b[38;5;241m>\u001b[39m \u001b[38;5;241m2\u001b[39m:\n\u001b[0;32m    507\u001b[0m     \u001b[38;5;28;01mraise\u001b[39;00m \u001b[38;5;167;01mValueError\u001b[39;00m(\u001b[38;5;124mf\u001b[39m\u001b[38;5;124m\"\u001b[39m\u001b[38;5;124mx and y can be no greater than 2D, but have \u001b[39m\u001b[38;5;124m\"\u001b[39m\n\u001b[0;32m    508\u001b[0m                      \u001b[38;5;124mf\u001b[39m\u001b[38;5;124m\"\u001b[39m\u001b[38;5;124mshapes \u001b[39m\u001b[38;5;132;01m{\u001b[39;00mx\u001b[38;5;241m.\u001b[39mshape\u001b[38;5;132;01m}\u001b[39;00m\u001b[38;5;124m and \u001b[39m\u001b[38;5;132;01m{\u001b[39;00my\u001b[38;5;241m.\u001b[39mshape\u001b[38;5;132;01m}\u001b[39;00m\u001b[38;5;124m\"\u001b[39m)\n",
      "\u001b[1;31mValueError\u001b[0m: x and y must have same first dimension, but have shapes (44,) and (139,)"
     ]
    },
    {
     "data": {
      "image/png": "[encoded data removed]",
      "text/plain": [
       "<Figure size 640x480 with 1 Axes>"
      ]
     },
     "metadata": {},
     "output_type": "display_data"
    }
   ],
   "source": [
    "# Define hyperparameter values to be tested\n",
    "learning_rate_values = [0.1, 0.3, 0.5]\n",
    "lambda_values = [0.9, 0.95, 1.0]\n",
    "\n",
    "best_config = None\n",
    "\n",
    "epochs = 50\n",
    "input_size = 3\n",
    "hidden_neurons = 20\n",
    "output_size = 2\n",
    "η = 0.3\n",
    "α = 0.5\n",
    "error_train = []\n",
    "error_val = []\n",
    "error_test=[]\n",
    "λ=1\n",
    "def sigmoid(n):\n",
    "    A=1/(1+np.exp(-(λ*n)))\n",
    "    return A\n",
    "\n",
    "\n",
    "for learning_rate in learning_rate_values:\n",
    "    for λ in lambda_values:\n",
    "\n",
    "        hidden_weights = 0.01*np.random.randn(input_size, hidden_neurons)\n",
    "        output_weights = 0.01*np.random.randn(hidden_neurons, output_size)\n",
    "        momentum_Δw = np.zeros((hidden_neurons, output_size))\n",
    "        momentum_Δwh = np.zeros((input_size, hidden_neurons))\n",
    "        decay_rate=0.95\n",
    "\n",
    "\n",
    "        tolerance = 5  # Number of epochs with no improvement after which training will be stopped\n",
    "        best_val_loss = float('inf')\n",
    "        best_weights_hidden = None\n",
    "        best_weights_output = None\n",
    "\n",
    "\n",
    "\n",
    "        for epoch in range(epochs):\n",
    "\n",
    "            error_rmse = np.zeros(2,)\n",
    "            error_rmse_val = np.zeros(2,)\n",
    "            error_rmse_test=np.zeros(2,)\n",
    "\n",
    "            for k in range(len(X_train_input)):\n",
    "                #Feedforward network\n",
    "                hidden_output = np.dot(X_train_input[k], hidden_weights)\n",
    "                hidden_input = sigmoid(hidden_output)\n",
    "\n",
    "                pred_output = sigmoid(np.dot(hidden_input, output_weights))\n",
    "\n",
    "                error_output = Y_train_output[k] - pred_output\n",
    "                error_rmse += pred_output\n",
    "\n",
    "                #Backpropagation\n",
    "                δk = λ * pred_output * (1 - pred_output) * error_output\n",
    "\n",
    "                Δwk1 = []\n",
    "                for i in range(len(δk)):\n",
    "                    for j in range(len(hidden_input)):\n",
    "                        dw1 = η * δk[i] * hidden_input[j]\n",
    "                        Δwk1.append(dw1)\n",
    "\n",
    "                Δwk = np.array(Δwk1).reshape(hidden_neurons, output_size)\n",
    "\n",
    "                # Updating the output_weights\n",
    "                output_weights = output_weights + Δwk + (α * momentum_Δw)\n",
    "\n",
    "                δh = []\n",
    "                for i in range(len(hidden_input)):\n",
    "                    dh = λ * hidden_input[i] * (1 - hidden_input[i]) * (δk[0] * output_weights[i][0] + δk[1] * output_weights[i][1])\n",
    "                    δh.append(dh)\n",
    "\n",
    "                Δwh1 = []\n",
    "                for i in range(len(δh)):\n",
    "                    for j in range(len(X_train_input[k])):\n",
    "                        dw2 = η * δh[i] * X_train_input[0][j]\n",
    "                        Δwh1.append(dw2)\n",
    "\n",
    "                Δwh = np.array(Δwh1).reshape(input_size, hidden_neurons)\n",
    "\n",
    "                hidden_weights = hidden_weights + Δwh + (α * momentum_Δwh)\n",
    "\n",
    "                momentum_Δw = Δwk\n",
    "                momentum_Δwh = Δwh\n",
    "\n",
    "            η*=decay_rate\n",
    "            rmse_1 = np.mean(error_rmse[0])\n",
    "            rmse_2 = np.mean(error_rmse[1])\n",
    "            mean_error_train = (rmse_1 + rmse_2) / 2\n",
    "\n",
    "            rmse_train = np.sqrt((mean_error_train - mean_actual_train) ** 2 / len(X_train_input))\n",
    "            error_train.append(rmse_train)\n",
    "\n",
    "            for k in range(len(X_val_input)):\n",
    "                hidden_output_v = np.dot(X_val_input[k], hidden_weights)\n",
    "                hidden_input_v = sigmoid(hidden_output_v)\n",
    "\n",
    "                pred_output_v = sigmoid(np.dot(hidden_input_v, output_weights))\n",
    "                error_output_v = pred_output_v - Y_val_output[k]\n",
    "                error_rmse_val += pred_output_v\n",
    "\n",
    "            rmse_1_val = np.mean(error_rmse_val[0])\n",
    "            rmse_2_val = np.mean(error_rmse_val[1])\n",
    "            mean_error_val = (rmse_1_val + rmse_2_val) / 2\n",
    "\n",
    "            rmse_val = np.sqrt((mean_error_val - mean_actual_val) ** 2 / len(X_val_input))\n",
    "            error_val.append(rmse_val)\n",
    "\n",
    "\n",
    "\n",
    "\n",
    "\n",
    "\n",
    "            print(f'For epoch {epoch + 1}, Training_rmse: {rmse_train}, Validation_rmse: {rmse_val}')\n",
    "                # Early stopping check\n",
    "            if rmse_val < best_val_loss:\n",
    "                best_val_loss = rmse_val\n",
    "                best_config = {'hidden_neurons': hidden_neurons, 'learning_rate': learning_rate}\n",
    "\n",
    "                best_weights_hidden = np.copy(hidden_weights)\n",
    "                best_weights_output = np.copy(output_weights)\n",
    "                tolerance_counter = 0\n",
    "            else:\n",
    "                tolerance_counter += 1\n",
    "                if tolerance_counter >= tolerance:\n",
    "                    print(f'Early stopping at epoch {epoch + 1}')\n",
    "                    break\n",
    "\n",
    "print(f'Best configuration: {best_config}')\n",
    "\n",
    "hidden_weights = best_weights_hidden\n",
    "output_weights = best_weights_output\n",
    "\n",
    "for k in range(len(X_test_input)):\n",
    "    hidden_output_t = np.dot(X_test_input[k], hidden_weights)\n",
    "    hidden_input_t = sigmoid(hidden_output_t)\n",
    "\n",
    "    pred_output_t = sigmoid(np.dot(hidden_input_t, output_weights))\n",
    "    error_output_t = pred_output_t - Y_test_output[k]\n",
    "    error_rmse_test += pred_output_t\n",
    "\n",
    "    rmse_1_test = np.mean(error_rmse_test[0])\n",
    "    rmse_2_test = np.mean(error_rmse_test[1])\n",
    "    mean_error_test = (rmse_1_test + rmse_2_test) / 2\n",
    "\n",
    "    rmse_test = np.sqrt((mean_error_test - mean_actual_test) ** 2 / len(X_test_input))\n",
    "    error_test.append(rmse_test)\n",
    "    \n",
    "print(f'Test_rmse: {rmse_test}')\n",
    "plt.plot(range(1, epoch + 2), error_train, marker='o', label='Training Error')\n",
    "plt.plot(range(1, epoch + 2), error_val, marker='o', label='Validation Error')\n",
    "plt.title('Error vs Epochs')\n",
    "plt.xlabel('Epochs')\n",
    "plt.ylabel('RMSE')\n",
    "plt.legend()\n",
    "plt.show()\n"
   ]
  },
  {
   "cell_type": "code",
   "execution_count": null,
   "id": "0d3358d1",
   "metadata": {},
   "outputs": [],
   "source": []
  }
 ],
 "metadata": {
  "kernelspec": {
   "display_name": "Python [conda env:base] *",
   "language": "python",
   "name": "conda-base-py"
  },
  "language_info": {
   "codemirror_mode": {
    "name": "ipython",
    "version": 3
   },
   "file_extension": ".py",
   "mimetype": "text/x-python",
   "name": "python",
   "nbconvert_exporter": "python",
   "pygments_lexer": "ipython3",
   "version": "3.12.7"
  }
 },
 "nbformat": 4,
 "nbformat_minor": 5
}
